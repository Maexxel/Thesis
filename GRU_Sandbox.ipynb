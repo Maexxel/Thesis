{
 "cells": [
  {
   "cell_type": "markdown",
   "metadata": {},
   "source": [
    "### Colab Stuff"
   ]
  },
  {
   "cell_type": "code",
   "execution_count": null,
   "metadata": {},
   "outputs": [],
   "source": [
    "from google.colab import drive\n",
    "drive.mount('/content/drive')\n",
    "\n",
    "import sys\n",
    "sys.path.append(\"/content/drive/MyDrive/ThesisFinal\")"
   ]
  },
  {
   "cell_type": "markdown",
   "metadata": {},
   "source": [
    "### Training Cell"
   ]
  },
  {
   "cell_type": "code",
   "execution_count": 1,
   "metadata": {},
   "outputs": [
    {
     "name": "stderr",
     "output_type": "stream",
     "text": [
      "WARNING:absl:Tensorflow library not found, tensorflow.io.gfile operations will use native shim calls. GCS paths (i.e. 'gs://...') cannot be accessed.\n"
     ]
    }
   ],
   "source": [
    "#-- Define Dataset and Dataloader to train on--#\n",
    "import jax\n",
    "from models.disrnn_utils import create_disrnn_train_state, disrnn_trainstep\n",
    "from models.gru_utils import create_gru_train_state, gru_trainstep, gru_value_trainstep\n",
    "from models.rnn_utils import train_model, load_model_state\n",
    "from torch.utils.data import DataLoader\n",
    "from custom_datasets import MoreThen3Dataset, custom_collate, from_disk, to_disk\n",
    "\n",
    "import absl.logging\n",
    "absl.logging.set_verbosity('error')\n",
    "\n",
    "# dataset = MyStarkweather(n_sequences=500, len_sequences=1_000, omission_probability=0.0, iti_p=1/8, iti_min=10)\n",
    "# train_dataloader = DataLoader(dataset,\n",
    "#                               batch_size=10,\n",
    "#                               drop_last=True,\n",
    "#                               collate_fn=custom_collate)\n",
    "\n",
    "# train_dataloader = DataLoader(from_disk(\"RLDataset\", \"data/leakyactor2\"),\n",
    "#                               batch_size=4,\n",
    "#                               drop_last=True,\n",
    "#                               collate_fn=custom_collate)\n",
    "\n",
    "\n",
    "# -- Creating training state, using a random key --#\n",
    "# master_key = jax.random.PRNGKey(0)\n",
    "# state = create_disrnn_train_state(master_rng_key=master_key,\n",
    "#                                   learning_rate=0.001,\n",
    "#                                   hidden_size=5,\n",
    "#                                   batch_size=10,\n",
    "#                                   seq_length=1000,\n",
    "#                                   in_dim=2,\n",
    "#                                   out_dim=2,\n",
    "#                                   update_mlp_shape=[5, 5, 5],\n",
    "#                                   choice_mlp_shape=[2, 2],\n",
    "#                                   kl_loss_factor=0.\n",
    "#                                   )\n",
    "\n",
    "# trained_model_state, training_metrics = train_model(state,\n",
    "#                                                     train_dataloader,\n",
    "#                                                     train_step_fun=disrnn_trainstep,\n",
    "#                                                     num_epochs=100,\n",
    "#                                                     print_every_other=1,)\n",
    "\n",
    "# master_key = jax.random.PRNGKey(0)\n",
    "# state = create_gru_train_state(master_key,\n",
    "#                                learning_rate=0.001,\n",
    "#                                hidden_size=10,\n",
    "#                                batch_size=10,\n",
    "#                                seq_length=1_000,\n",
    "#                                out_dim=1,\n",
    "#                                in_dim=2)\n",
    "# trained_model_state, training_metrics = train_model(state,\n",
    "#                                                     train_dataloader,\n",
    "#                                                     train_step_fun=gru_value_trainstep,\n",
    "#                                                     num_epochs=150,\n",
    "#                                                     print_every_other=1)\n",
    "# del master_key"
   ]
  },
  {
   "cell_type": "markdown",
   "metadata": {},
   "source": [
    "### Evaluation/ Inspection"
   ]
  },
  {
   "cell_type": "markdown",
   "metadata": {},
   "source": [
    "#### Eval"
   ]
  },
  {
   "cell_type": "code",
   "execution_count": null,
   "metadata": {},
   "outputs": [],
   "source": [
    "from models.rnn_utils import eval\n",
    "\n",
    "outputs, weights = eval(MoreThen3Dataset(),\n",
    "                        trained_model_state,\n",
    "                        true_output=2,\n",
    "                        dataset_end=3,\n",
    "                        inspect=True)\n",
    "outputs, weights "
   ]
  },
  {
   "cell_type": "markdown",
   "metadata": {},
   "source": [
    "#### DisRNN"
   ]
  },
  {
   "cell_type": "code",
   "execution_count": null,
   "metadata": {},
   "outputs": [],
   "source": [
    "from models.disrnn_analysis import plot_bottlenecks, plot_bottleneck_evolution, plot_update_rules\n",
    "from models.rnn_utils import load_model_state\n",
    "\n",
    "# master_key = jax.random.PRNGKey(0)\n",
    "# state = create_disrnn_train_state(master_rng_key=master_key,\n",
    "#                                   learning_rate=0.001,\n",
    "#                                   hidden_size=5,\n",
    "#                                   batch_size=4,\n",
    "#                                   seq_length=1000,\n",
    "#                                   in_dim=2,\n",
    "#                                   out_dim=2,\n",
    "#                                   update_mlp_shape=[5, 5, 5],\n",
    "#                                   choice_mlp_shape=[2, 2],\n",
    "#                                   kl_loss_factor=0.00075\n",
    "#                                   )\n",
    "\n",
    "# state = load_model_state(\"data/models/leakyactor_001_001\", step=2000)\n",
    "# final_bottlenecks = plot_bottlenecks(state[\"params\"])\n",
    "# bottleneck_evolution = plot_bottleneck_evolution(\"data/models/leakyactor_001_001/\")"
   ]
  },
  {
   "cell_type": "code",
   "execution_count": null,
   "metadata": {},
   "outputs": [],
   "source": [
    "model_state = load_model_state(\"data/models/leakyactor_001_001\", step=1001)\n",
    "plot_update_rules(model_state[\"params\"])"
   ]
  },
  {
   "cell_type": "markdown",
   "metadata": {},
   "source": [
    "#### Belief Analyses"
   ]
  },
  {
   "cell_type": "code",
   "execution_count": 2,
   "metadata": {},
   "outputs": [
    {
     "name": "stdout",
     "output_type": "stream",
     "text": [
      "Creating POMDP reference model...\n",
      "Analyzing Value-RNN models...\n",
      "\tFound model at path: data/models/vrnn_0001_10 with conf: learning-rate=0001, hidden-size=10\n",
      "\t\tModel state loaded.\n",
      "\t\tModel probed.\n",
      "\t\tAdded value and RPE converted to MyTrial.\n",
      "MSEs:  {'Value-RNN - 10_mse': np.float64(0.0003860863887071804)}\n"
     ]
    },
    {
     "data": {
      "image/png": "[encoded data removed]",
      "text/plain": [
       "<Figure size 640x480 with 1 Axes>"
      ]
     },
     "metadata": {},
     "output_type": "display_data"
    }
   ],
   "source": [
    "from belief_analyze import multi_value_analyze, calc_mse, compare_rpes_plot\n",
    "from belief_utils import extract_last_vals, calc_rpe_groups\n",
    "\n",
    "trial_dict = multi_value_analyze(0.)\n",
    "print(\"MSEs: \", calc_mse(trial_dict))\n",
    "rpegroup_dict = {}\n",
    "\n",
    "for key, value in trial_dict.items():\n",
    "    rpegroup_dict[key] = calc_rpe_groups(value)\n",
    "\n",
    "compare_rpes_plot(extract_last_vals(rpegroup_dict))"
   ]
  },
  {
   "cell_type": "code",
   "execution_count": null,
   "metadata": {},
   "outputs": [],
   "source": [
    "from belief_analyze import fit_weights, add_value_and_rpe, calc_rpe_groups, plot_rpes\n",
    "from belief_utils import convert_to_mytrial\n",
    "from belief_pomdp import add_pomdp_states_beliefs\n",
    "from models.rnn_utils import eval_value_wrapper\n",
    "\n",
    "eval_dataset = MyStarkweather(n_sequences=2, len_sequences=10_000, omission_probability=0.0, iti_p=1/8, iti_min=10)\n",
    "\n",
    "trials = add_pomdp_states_beliefs(eval_dataset, 0.1, 1/8, 10)\n",
    "weights = fit_weights(trials)\n",
    "trials = add_value_and_rpe(trials, weights, 0.93)\n",
    "\n",
    "my_trials = convert_to_mytrial(trials)\n",
    "pomdp_rpe_groups = calc_rpe_groups(my_trials)\n",
    "plot_rpes(pomdp_rpe_groups)\n"
   ]
  }
 ],
 "metadata": {
  "kernelspec": {
   "display_name": "Python 3",
   "language": "python",
   "name": "python3"
  },
  "language_info": {
   "codemirror_mode": {
    "name": "ipython",
    "version": 3
   },
   "file_extension": ".py",
   "mimetype": "text/x-python",
   "name": "python",
   "nbconvert_exporter": "python",
   "pygments_lexer": "ipython3",
   "version": "3.10.12"
  }
 },
 "nbformat": 4,
 "nbformat_minor": 2
}
